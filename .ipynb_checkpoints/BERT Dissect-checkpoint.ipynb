{
 "cells": [
  {
   "cell_type": "code",
   "execution_count": 21,
   "metadata": {},
   "outputs": [],
   "source": [
    "import torch"
   ]
  },
  {
   "cell_type": "markdown",
   "metadata": {},
   "source": [
    "# BERT 💥"
   ]
  },
  {
   "cell_type": "code",
   "execution_count": 206,
   "metadata": {},
   "outputs": [
    {
     "name": "stderr",
     "output_type": "stream",
     "text": [
      "Some weights of the model checkpoint at Maltehb/danish-bert-botxo were not used when initializing BertModel: ['cls.predictions.transform.LayerNorm.weight', 'cls.predictions.transform.dense.bias', 'cls.predictions.transform.dense.weight', 'cls.seq_relationship.weight', 'cls.predictions.decoder.bias', 'cls.predictions.decoder.weight', 'cls.predictions.bias', 'cls.seq_relationship.bias', 'cls.predictions.transform.LayerNorm.bias']\n",
      "- This IS expected if you are initializing BertModel from the checkpoint of a model trained on another task or with another architecture (e.g. initializing a BertForSequenceClassification model from a BertForPreTraining model).\n",
      "- This IS NOT expected if you are initializing BertModel from the checkpoint of a model that you expect to be exactly identical (initializing a BertForSequenceClassification model from a BertForSequenceClassification model).\n"
     ]
    }
   ],
   "source": [
    "from transformers import (\n",
    "    AutoConfig, \n",
    "    AutoModel, \n",
    "    AutoTokenizer\n",
    ")\n",
    "\n",
    "backbone = 'Maltehb/danish-bert-botxo'\n",
    "config = AutoConfig.from_pretrained(backbone)\n",
    "model = AutoModel.from_pretrained(backbone)\n",
    "tokenizer = AutoTokenizer.from_pretrained(backbone)"
   ]
  },
  {
   "cell_type": "markdown",
   "metadata": {},
   "source": [
    "## Tokenizer 🧩"
   ]
  },
  {
   "cell_type": "markdown",
   "metadata": {},
   "source": [
    "Convert text to tensors using the tokenizer!"
   ]
  },
  {
   "cell_type": "code",
   "execution_count": 207,
   "metadata": {},
   "outputs": [
    {
     "name": "stdout",
     "output_type": "stream",
     "text": [
      "type:\t\t <class 'transformers.tokenization_utils_base.BatchEncoding'>\n",
      "dict keys:\t dict_keys(['input_ids', 'token_type_ids', 'attention_mask'])\n",
      "input_ids shape: torch.Size([1, 11])\n",
      "\n",
      "tokens:\t\t ['[CLS]', 'jeg', 'sender', 'dig', 'en', 'fødselsdag', '##sh', '##ils', '##nen', '!', '[SEP]']\n"
     ]
    }
   ],
   "source": [
    "encoding = tokenizer(\n",
    "    text='Jeg sender dig en fødselsdagshilsnen!', \n",
    "    return_tensors='pt'\n",
    ")\n",
    "\n",
    "\n",
    "print('type:\\t\\t',type(encoding))\n",
    "print('dict keys:\\t',encoding.keys())\n",
    "print('input_ids shape:', encoding['input_ids'].shape)\n",
    "\n",
    "print('\\ntokens:\\t\\t', encoding.tokens())\n"
   ]
  },
  {
   "cell_type": "markdown",
   "metadata": {},
   "source": [
    "## BERT Model 😎"
   ]
  },
  {
   "cell_type": "markdown",
   "metadata": {},
   "source": [
    "Run the tokenized text through BERT!\n",
    "\n",
    "Choose weather or not to return output hidden stattes and output attentions wiht the <i>output_hidden_states</i> and <i>output_attentions</i> args.\n",
    "\n",
    "<b>Bonus tip:</b><br>\n",
    "Read documentation for BERTModel's forward method:<br>\n",
    "https://huggingface.co/docs/transformers/model_doc/bert#transformers.BertModel"
   ]
  },
  {
   "cell_type": "code",
   "execution_count": 208,
   "metadata": {},
   "outputs": [
    {
     "name": "stdout",
     "output_type": "stream",
     "text": [
      "OUTPUT KEYS:\n",
      "odict_keys(['last_hidden_state', 'pooler_output', 'hidden_states', 'attentions'])\n"
     ]
    }
   ],
   "source": [
    "bert_output = model(**encoding, output_hidden_states=True, output_attentions=True)\n",
    "\n",
    "print('output keys:'.upper())\n",
    "print(bert_output.keys())"
   ]
  },
  {
   "cell_type": "code",
   "execution_count": 209,
   "metadata": {},
   "outputs": [
    {
     "name": "stdout",
     "output_type": "stream",
     "text": [
      "BERT OUTPUT:\n",
      "<class 'transformers.modeling_outputs.BaseModelOutputWithPoolingAndCrossAttentions'>\n",
      "\n",
      "\n",
      "ATTENTION OUTPUT:\n",
      "<class 'tuple'>\n",
      "12\n",
      "<class 'torch.Tensor'>\n",
      "torch.Size([1, 12, 11, 11])\n",
      "\n",
      "\n",
      "OUTPUT HIDDEN STATES:\n",
      "<class 'tuple'>\n",
      "len: 13\n",
      "<class 'torch.Tensor'>\n",
      "torch.Size([1, 11, 768])\n",
      "\n",
      "\n",
      "POOLER OUTPUT:\n",
      "<class 'torch.Tensor'>\n"
     ]
    }
   ],
   "source": [
    "print('BERT Output:'.upper())\n",
    "print(type(bert_output))\n",
    "\n",
    "print('\\n\\nAttention Output:'.upper())\n",
    "print(type(bert_output.attentions))\n",
    "print(len(bert_output.attentions))\n",
    "print(type(bert_output.attentions[0]))\n",
    "print(bert_output.attentions[0].shape)\n",
    "\n",
    "print('\\n\\nOutput Hidden States:'.upper())\n",
    "print(type(bert_output.hidden_states))\n",
    "print('len:', len(bert_output.hidden_states))\n",
    "print(type(bert_output.hidden_states[0]))\n",
    "print(bert_output.hidden_states[0].shape)\n",
    "\n",
    "print('\\n\\nPooler Output:'.upper())\n",
    "print(type(bert_output.pooler_output))\n"
   ]
  },
  {
   "cell_type": "markdown",
   "metadata": {},
   "source": [
    "# BERT Submodules 🔥"
   ]
  },
  {
   "cell_type": "markdown",
   "metadata": {},
   "source": [
    "Link to BERT submodules: <br>\n",
    "https://github.com/huggingface/transformers/blob/2aa3cd935d0f3bcd04ce66be6af4b760493d2ffe/src/transformers/models/bert/modeling_bert.py"
   ]
  },
  {
   "cell_type": "code",
   "execution_count": 198,
   "metadata": {},
   "outputs": [],
   "source": [
    "from transformers.models.bert.modeling_bert import (\n",
    "    BertSelfAttention, \n",
    "    BertEmbeddings,\n",
    "    BertLayer\n",
    ")\n"
   ]
  },
  {
   "cell_type": "markdown",
   "metadata": {},
   "source": [
    "## Embedding Module"
   ]
  },
  {
   "cell_type": "code",
   "execution_count": 217,
   "metadata": {},
   "outputs": [
    {
     "name": "stdout",
     "output_type": "stream",
     "text": [
      "torch.Size([1, 11, 768])\n"
     ]
    }
   ],
   "source": [
    "embeddings = BertEmbeddings(config)\n",
    "bert_input = embeddings(encoding['input_ids'])\n",
    "print(bert_input.shape)"
   ]
  },
  {
   "cell_type": "markdown",
   "metadata": {},
   "source": [
    "## BERT Layer 🍰"
   ]
  },
  {
   "cell_type": "code",
   "execution_count": 221,
   "metadata": {},
   "outputs": [
    {
     "data": {
      "text/plain": [
       "torch.Size([1, 11, 768])"
      ]
     },
     "execution_count": 221,
     "metadata": {},
     "output_type": "execute_result"
    }
   ],
   "source": [
    "bl = BertLayer(config)\n",
    "bl(bert_input)[0].shape"
   ]
  },
  {
   "cell_type": "markdown",
   "metadata": {},
   "source": [
    "## Self-attention Module"
   ]
  },
  {
   "cell_type": "code",
   "execution_count": 223,
   "metadata": {},
   "outputs": [],
   "source": [
    "self_attention = BertSelfAttention(config)"
   ]
  },
  {
   "cell_type": "code",
   "execution_count": null,
   "metadata": {},
   "outputs": [],
   "source": []
  }
 ],
 "metadata": {
  "kernelspec": {
   "display_name": "Python 3",
   "language": "python",
   "name": "python3"
  },
  "language_info": {
   "codemirror_mode": {
    "name": "ipython",
    "version": 3
   },
   "file_extension": ".py",
   "mimetype": "text/x-python",
   "name": "python",
   "nbconvert_exporter": "python",
   "pygments_lexer": "ipython3",
   "version": "3.8.10"
  },
  "varInspector": {
   "cols": {
    "lenName": 16,
    "lenType": 16,
    "lenVar": 40
   },
   "kernels_config": {
    "python": {
     "delete_cmd_postfix": "",
     "delete_cmd_prefix": "del ",
     "library": "var_list.py",
     "varRefreshCmd": "print(var_dic_list())"
    },
    "r": {
     "delete_cmd_postfix": ") ",
     "delete_cmd_prefix": "rm(",
     "library": "var_list.r",
     "varRefreshCmd": "cat(var_dic_list()) "
    }
   },
   "types_to_exclude": [
    "module",
    "function",
    "builtin_function_or_method",
    "instance",
    "_Feature"
   ],
   "window_display": false
  }
 },
 "nbformat": 4,
 "nbformat_minor": 4
}
